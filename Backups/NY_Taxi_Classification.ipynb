{
 "cells": [
  {
   "cell_type": "markdown",
   "id": "f5d56b18",
   "metadata": {},
   "source": [
    "# Classification Problem"
   ]
  },
  {
   "cell_type": "code",
   "execution_count": 16,
   "id": "2c2fd705",
   "metadata": {},
   "outputs": [],
   "source": [
    "import pandas as pd\n",
    "import numpy as np\n",
    "%matplotlib inline"
   ]
  },
  {
   "cell_type": "code",
   "execution_count": 17,
   "id": "af15a76b",
   "metadata": {},
   "outputs": [],
   "source": [
    "nyc_taxi_with_weather=pd.read_csv('data/nyc_taxi_with_weather.csv')"
   ]
  },
  {
   "cell_type": "code",
   "execution_count": 18,
   "id": "6551eeac",
   "metadata": {
    "scrolled": true
   },
   "outputs": [
    {
     "data": {
      "text/plain": [
       "count    102521.000000\n",
       "mean         21.682430\n",
       "std          16.620106\n",
       "min           0.300000\n",
       "25%          12.403579\n",
       "50%          15.300000\n",
       "75%          24.206667\n",
       "max         199.820000\n",
       "Name: total_amount, dtype: float64"
      ]
     },
     "execution_count": 18,
     "metadata": {},
     "output_type": "execute_result"
    }
   ],
   "source": [
    "nyc_taxi_with_weather['total_amount'].describe()"
   ]
  },
  {
   "cell_type": "code",
   "execution_count": 19,
   "id": "a9788570",
   "metadata": {
    "scrolled": true
   },
   "outputs": [
    {
     "data": {
      "text/plain": [
       "<AxesSubplot:>"
      ]
     },
     "execution_count": 19,
     "metadata": {},
     "output_type": "execute_result"
    },
    {
     "data": {
      "image/png": "[encoded data removed]",
      "text/plain": [
       "<Figure size 720x360 with 1 Axes>"
      ]
     },
     "metadata": {
      "needs_background": "light"
     },
     "output_type": "display_data"
    }
   ],
   "source": [
    "nyc_taxi_with_weather['total_amount'].hist(bins=100, figsize=(10,5))"
   ]
  },
  {
   "cell_type": "code",
   "execution_count": 73,
   "id": "e3074e6f",
   "metadata": {},
   "outputs": [
    {
     "data": {
      "text/html": [
       "<div>\n",
       "<style scoped>\n",
       "    .dataframe tbody tr th:only-of-type {\n",
       "        vertical-align: middle;\n",
       "    }\n",
       "\n",
       "    .dataframe tbody tr th {\n",
       "        vertical-align: top;\n",
       "    }\n",
       "\n",
       "    .dataframe thead th {\n",
       "        text-align: right;\n",
       "    }\n",
       "</style>\n",
       "<table border=\"1\" class=\"dataframe\">\n",
       "  <thead>\n",
       "    <tr style=\"text-align: right;\">\n",
       "      <th></th>\n",
       "      <th>Unnamed: 0</th>\n",
       "      <th>PULocationID</th>\n",
       "      <th>transaction_date</th>\n",
       "      <th>transaction_month</th>\n",
       "      <th>transaction_day</th>\n",
       "      <th>transaction_hour</th>\n",
       "      <th>trip_distance</th>\n",
       "      <th>total_amount</th>\n",
       "      <th>transactions_aggregated</th>\n",
       "      <th>transaction_week_day</th>\n",
       "      <th>weekend</th>\n",
       "      <th>is_holiday</th>\n",
       "      <th>Borough</th>\n",
       "      <th>temperature</th>\n",
       "      <th>humidity</th>\n",
       "      <th>wind speed</th>\n",
       "      <th>cloud cover</th>\n",
       "      <th>amount of precipitation</th>\n",
       "      <th>earning_class</th>\n",
       "      <th>earning_class_binary</th>\n",
       "    </tr>\n",
       "  </thead>\n",
       "  <tbody>\n",
       "    <tr>\n",
       "      <th>0</th>\n",
       "      <td>0</td>\n",
       "      <td>10</td>\n",
       "      <td>2019-01-01</td>\n",
       "      <td>1</td>\n",
       "      <td>1</td>\n",
       "      <td>0</td>\n",
       "      <td>3.020000</td>\n",
       "      <td>14.300000</td>\n",
       "      <td>2</td>\n",
       "      <td>1</td>\n",
       "      <td>False</td>\n",
       "      <td>True</td>\n",
       "      <td>Queens</td>\n",
       "      <td>8.3</td>\n",
       "      <td>97.0</td>\n",
       "      <td>0.0</td>\n",
       "      <td>1.0</td>\n",
       "      <td>29.0</td>\n",
       "      <td>low</td>\n",
       "      <td>0</td>\n",
       "    </tr>\n",
       "    <tr>\n",
       "      <th>1</th>\n",
       "      <td>1</td>\n",
       "      <td>100</td>\n",
       "      <td>2019-01-01</td>\n",
       "      <td>1</td>\n",
       "      <td>1</td>\n",
       "      <td>0</td>\n",
       "      <td>2.801852</td>\n",
       "      <td>18.130000</td>\n",
       "      <td>54</td>\n",
       "      <td>1</td>\n",
       "      <td>False</td>\n",
       "      <td>True</td>\n",
       "      <td>Manhattan</td>\n",
       "      <td>8.3</td>\n",
       "      <td>97.0</td>\n",
       "      <td>0.0</td>\n",
       "      <td>1.0</td>\n",
       "      <td>29.0</td>\n",
       "      <td>high</td>\n",
       "      <td>1</td>\n",
       "    </tr>\n",
       "    <tr>\n",
       "      <th>2</th>\n",
       "      <td>2</td>\n",
       "      <td>106</td>\n",
       "      <td>2019-01-01</td>\n",
       "      <td>1</td>\n",
       "      <td>1</td>\n",
       "      <td>0</td>\n",
       "      <td>2.593333</td>\n",
       "      <td>15.373333</td>\n",
       "      <td>3</td>\n",
       "      <td>1</td>\n",
       "      <td>False</td>\n",
       "      <td>True</td>\n",
       "      <td>Brooklyn</td>\n",
       "      <td>8.3</td>\n",
       "      <td>97.0</td>\n",
       "      <td>0.0</td>\n",
       "      <td>1.0</td>\n",
       "      <td>29.0</td>\n",
       "      <td>low</td>\n",
       "      <td>0</td>\n",
       "    </tr>\n",
       "    <tr>\n",
       "      <th>3</th>\n",
       "      <td>3</td>\n",
       "      <td>107</td>\n",
       "      <td>2019-01-01</td>\n",
       "      <td>1</td>\n",
       "      <td>1</td>\n",
       "      <td>0</td>\n",
       "      <td>2.437458</td>\n",
       "      <td>14.897458</td>\n",
       "      <td>421</td>\n",
       "      <td>1</td>\n",
       "      <td>False</td>\n",
       "      <td>True</td>\n",
       "      <td>Manhattan</td>\n",
       "      <td>8.3</td>\n",
       "      <td>97.0</td>\n",
       "      <td>0.0</td>\n",
       "      <td>1.0</td>\n",
       "      <td>29.0</td>\n",
       "      <td>low</td>\n",
       "      <td>0</td>\n",
       "    </tr>\n",
       "    <tr>\n",
       "      <th>4</th>\n",
       "      <td>4</td>\n",
       "      <td>11</td>\n",
       "      <td>2019-01-01</td>\n",
       "      <td>1</td>\n",
       "      <td>1</td>\n",
       "      <td>0</td>\n",
       "      <td>1.795000</td>\n",
       "      <td>9.300000</td>\n",
       "      <td>2</td>\n",
       "      <td>1</td>\n",
       "      <td>False</td>\n",
       "      <td>True</td>\n",
       "      <td>Brooklyn</td>\n",
       "      <td>8.3</td>\n",
       "      <td>97.0</td>\n",
       "      <td>0.0</td>\n",
       "      <td>1.0</td>\n",
       "      <td>29.0</td>\n",
       "      <td>low</td>\n",
       "      <td>0</td>\n",
       "    </tr>\n",
       "  </tbody>\n",
       "</table>\n",
       "</div>"
      ],
      "text/plain": [
       "   Unnamed: 0  PULocationID transaction_date  transaction_month  \\\n",
       "0           0            10       2019-01-01                  1   \n",
       "1           1           100       2019-01-01                  1   \n",
       "2           2           106       2019-01-01                  1   \n",
       "3           3           107       2019-01-01                  1   \n",
       "4           4            11       2019-01-01                  1   \n",
       "\n",
       "   transaction_day  transaction_hour  trip_distance  total_amount  \\\n",
       "0                1                 0       3.020000     14.300000   \n",
       "1                1                 0       2.801852     18.130000   \n",
       "2                1                 0       2.593333     15.373333   \n",
       "3                1                 0       2.437458     14.897458   \n",
       "4                1                 0       1.795000      9.300000   \n",
       "\n",
       "   transactions_aggregated  transaction_week_day  weekend  is_holiday  \\\n",
       "0                        2                     1    False        True   \n",
       "1                       54                     1    False        True   \n",
       "2                        3                     1    False        True   \n",
       "3                      421                     1    False        True   \n",
       "4                        2                     1    False        True   \n",
       "\n",
       "     Borough  temperature  humidity  wind speed  cloud cover  \\\n",
       "0     Queens          8.3      97.0         0.0          1.0   \n",
       "1  Manhattan          8.3      97.0         0.0          1.0   \n",
       "2   Brooklyn          8.3      97.0         0.0          1.0   \n",
       "3  Manhattan          8.3      97.0         0.0          1.0   \n",
       "4   Brooklyn          8.3      97.0         0.0          1.0   \n",
       "\n",
       "   amount of precipitation earning_class  earning_class_binary  \n",
       "0                     29.0           low                     0  \n",
       "1                     29.0          high                     1  \n",
       "2                     29.0           low                     0  \n",
       "3                     29.0           low                     0  \n",
       "4                     29.0           low                     0  "
      ]
     },
     "execution_count": 73,
     "metadata": {},
     "output_type": "execute_result"
    }
   ],
   "source": [
    "nyc_class = nyc_taxi_with_weather.copy()\n",
    "nyc_class['earning_class']=nyc_class['total_amount'].apply(lambda x: 'high' if x>15.5 else 'low')\n",
    "nyc_class['earning_class_binary']=nyc_class['earning_class'].apply(lambda x: 0 if x=='low' else 1)\n",
    "nyc_class.head()"
   ]
  },
  {
   "cell_type": "code",
   "execution_count": 74,
   "id": "a9d60512",
   "metadata": {},
   "outputs": [
    {
     "data": {
      "text/plain": [
       "low     52621\n",
       "high    49900\n",
       "Name: earning_class, dtype: int64"
      ]
     },
     "execution_count": 74,
     "metadata": {},
     "output_type": "execute_result"
    }
   ],
   "source": [
    "nyc_class['earning_class'].value_counts()"
   ]
  },
  {
   "cell_type": "markdown",
   "id": "93f07b4c",
   "metadata": {},
   "source": [
    "**The target feature is the earning class of either High or Low**"
   ]
  },
  {
   "cell_type": "code",
   "execution_count": 33,
   "id": "02a8cb3d",
   "metadata": {},
   "outputs": [],
   "source": [
    "categorical_features = ['PULocationID','transaction_month','transaction_day','transaction_hour','transaction_week_day','weekend','is_holiday','Borough']\n",
    "input_features = categorical_features + ['temperature','humidity','wind speed','cloud cover','amount of precipitation']\n",
    "target_feature = 'earning_class_binary'"
   ]
  },
  {
   "cell_type": "code",
   "execution_count": 34,
   "id": "7e82a257",
   "metadata": {},
   "outputs": [],
   "source": [
    "from sklearn.model_selection import train_test_split\n",
    "\n",
    "X_c = nyc_class[input_features]\n",
    "y_c = nyc_class[target_feature]\n",
    "\n",
    "# one-hot encode\n",
    "X_c = pd.get_dummies(X_c)\n",
    "\n",
    "X_train_c, X_test_c, y_train_c, y_test_c = train_test_split(X_c,y_c,test_size=0.33,random_state=42)"
   ]
  },
  {
   "cell_type": "code",
   "execution_count": 75,
   "id": "85c4090b",
   "metadata": {},
   "outputs": [],
   "source": [
    "from sklearn.ensemble import RandomForestClassifier\n",
    "\n",
    "clf = RandomForestClassifier()\n",
    "clf.fit(X_train_c, y_train_c)\n",
    "\n",
    "y_pred_c=clf.predict(X_test_c)"
   ]
  },
  {
   "cell_type": "code",
   "execution_count": 76,
   "id": "7952b0d9",
   "metadata": {},
   "outputs": [
    {
     "name": "stdout",
     "output_type": "stream",
     "text": [
      "[[ 8257  6273]\n",
      " [ 5619 13683]]\n",
      "accuracy 0.6484984629936155\n",
      "precision 0.6856584485868912\n",
      "recall 0.7088902704382966\n"
     ]
    }
   ],
   "source": [
    "from sklearn.metrics import accuracy_score\n",
    "from sklearn.metrics import precision_score, recall_score\n",
    "from sklearn.metrics import confusion_matrix\n",
    "from math import sqrt\n",
    "\n",
    "print(confusion_matrix(y_test_c, y_pred_c))\n",
    "\n",
    "print('accuracy', accuracy_score(y_test_c, y_pred_c))\n",
    "print('precision', precision_score(y_test_c, y_pred_c))\n",
    "print('recall', recall_score(y_test_c, y_pred_c))"
   ]
  },
  {
   "cell_type": "code",
   "execution_count": 37,
   "id": "bb538d95",
   "metadata": {},
   "outputs": [
    {
     "data": {
      "text/plain": [
       "<AxesSubplot:>"
      ]
     },
     "execution_count": 37,
     "metadata": {},
     "output_type": "execute_result"
    },
    {
     "data": {
      "image/png": "[encoded data removed]",
      "text/plain": [
       "<Figure size 432x288 with 1 Axes>"
      ]
     },
     "metadata": {
      "needs_background": "light"
     },
     "output_type": "display_data"
    }
   ],
   "source": [
    "(pd.Series(clf.feature_importances_, index=X_train_c.columns)\n",
    "   .nlargest(10)\n",
    "   .plot(kind='barh'))"
   ]
  },
  {
   "cell_type": "code",
   "execution_count": null,
   "id": "87d3cbd6",
   "metadata": {},
   "outputs": [],
   "source": []
  },
  {
   "cell_type": "code",
   "execution_count": null,
   "id": "7296f0e2",
   "metadata": {},
   "outputs": [],
   "source": []
  }
 ],
 "metadata": {
  "kernelspec": {
   "display_name": "Python 3",
   "language": "python",
   "name": "python3"
  },
  "language_info": {
   "codemirror_mode": {
    "name": "ipython",
    "version": 3
   },
   "file_extension": ".py",
   "mimetype": "text/x-python",
   "name": "python",
   "nbconvert_exporter": "python",
   "pygments_lexer": "ipython3",
   "version": "3.8.8"
  }
 },
 "nbformat": 4,
 "nbformat_minor": 5
}
